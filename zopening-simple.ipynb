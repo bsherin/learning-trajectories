{
 "cells": [
  {
   "cell_type": "markdown",
   "id": "a3d15964-2060-4010-8023-34cefb00bca3",
   "metadata": {},
   "source": [
    "\n",
    "Instructions for downloading data are [here](https://www.reddit.com/r/pushshift/comments/11ef9if/separate_dump_files_for_the_top_20k_subreddits/)\n",
    "\n",
    "I have included the .torrent file in this github repository.\n",
    "Open a bittorrent client and then open this torrent file. You can then select the subreddits you want.\n",
    "\n",
    "This particular notebook reads in some number of lines and writes then to a CSV.\n",
    "That's not particularly helpful. We're probably want to work straight from the ZST files."
   ]
  },
  {
   "cell_type": "code",
   "execution_count": 1,
   "id": "d3183153-a9db-4818-8762-f13c809d397f",
   "metadata": {
    "tags": []
   },
   "outputs": [],
   "source": [
    "import zstandard\n",
    "import os\n",
    "import json\n",
    "import sys\n",
    "import csv\n",
    "from datetime import datetime\n",
    "import logging.handlers\n",
    "\n",
    "\n",
    "input_file = r\"./subreddits/Mechwarrior5_submissions.zst\"\n",
    "output_file = r\"./subreddits/Mechwarrior5_submissions_output\"\n",
    "output_format = \"csv\"\n",
    "from_date = datetime.strptime(\"2005-01-01\", \"%Y-%m-%d\")\n",
    "to_date = datetime.strptime(\"2025-01-01\", \"%Y-%m-%d\")"
   ]
  },
  {
   "cell_type": "code",
   "execution_count": 2,
   "id": "a1f0100c-ce41-43b2-82b9-9cbb254f3702",
   "metadata": {
    "tags": []
   },
   "outputs": [],
   "source": [
    "# sets up logging to the console as well as a file\n",
    "log = logging.getLogger(\"bot\")\n",
    "log.setLevel(logging.INFO)\n",
    "log_formatter = logging.Formatter('%(asctime)s - %(levelname)s: %(message)s')\n",
    "log_str_handler = logging.StreamHandler()\n",
    "log_str_handler.setFormatter(log_formatter)\n",
    "log.addHandler(log_str_handler)\n",
    "if not os.path.exists(\"logs\"):\n",
    "\tos.makedirs(\"logs\")\n",
    "log_file_handler = logging.handlers.RotatingFileHandler(os.path.join(\"logs\", \"bot.log\"), maxBytes=1024*1024*16, backupCount=5)\n",
    "log_file_handler.setFormatter(log_formatter)\n",
    "log.addHandler(log_file_handler)"
   ]
  },
  {
   "cell_type": "code",
   "execution_count": 3,
   "id": "61510247-d89d-4d0c-9516-e6e58e366f41",
   "metadata": {
    "tags": []
   },
   "outputs": [],
   "source": [
    "def write_line_csv(writer, obj):\n",
    "    output_list = []\n",
    "    for f in obj.values():\n",
    "        output_list.append(str(f))\n",
    "    writer.writerow(output_list)\n",
    "\n",
    "def read_and_decode(reader, chunk_size, max_window_size, previous_chunk=None, bytes_read=0):\n",
    "\tchunk = reader.read(chunk_size)\n",
    "\tbytes_read += chunk_size\n",
    "\tif previous_chunk is not None:\n",
    "\t\tchunk = previous_chunk + chunk\n",
    "\ttry:\n",
    "\t\treturn chunk.decode()\n",
    "\texcept UnicodeDecodeError:\n",
    "\t\tif bytes_read > max_window_size:\n",
    "\t\t\traise UnicodeError(f\"Unable to decode frame after reading {bytes_read:,} bytes\")\n",
    "\t\tlog.info(f\"Decoding error with {bytes_read:,} bytes, reading another chunk\")\n",
    "\t\treturn read_and_decode(reader, chunk_size, max_window_size, chunk, bytes_read)\n",
    "\n",
    "\n",
    "def read_lines_zst(file_name):\n",
    "\twith open(file_name, 'rb') as file_handle:\n",
    "\t\tbuffer = ''\n",
    "\t\treader = zstandard.ZstdDecompressor(max_window_size=2**31).stream_reader(file_handle)\n",
    "\t\twhile True:\n",
    "\t\t\tchunk = read_and_decode(reader, 2**27, (2**29) * 2)\n",
    "\n",
    "\t\t\tif not chunk:\n",
    "\t\t\t\tbreak\n",
    "\t\t\tlines = (buffer + chunk).split(\"\\n\")\n",
    "\n",
    "\t\t\tfor line in lines[:-1]:\n",
    "\t\t\t\tyield line.strip(), file_handle.tell()\n",
    "\n",
    "\t\t\tbuffer = lines[-1]\n",
    "\n",
    "\t\treader.close()"
   ]
  },
  {
   "cell_type": "code",
   "execution_count": 4,
   "id": "115b431e-ee33-49a4-961b-45600d014045",
   "metadata": {
    "tags": []
   },
   "outputs": [],
   "source": [
    "output_path = f\"{output_file}.{output_format}\"\n",
    "\n",
    "writer = None\n",
    "\n",
    "handle = open(output_path, 'w', encoding='UTF-8', newline='')\n",
    "writer = csv.writer(handle)\n",
    "\n",
    "file_size = os.stat(input_file).st_size\n",
    "file_bytes_processed = 0\n",
    "created = None\n",
    "matched_lines = 0\n",
    "bad_lines = 0\n",
    "total_lines = 0\n",
    "counter = 0\n",
    "MAX_LINES_TO_PROCESS = 100\n",
    "for line, file_bytes_processed in read_lines_zst(input_file):\n",
    "    total_lines += 1\n",
    "    if total_lines >= MAX_LINES_TO_PROCESS:\n",
    "        break\n",
    "    \n",
    "    if total_lines % 1000 == 0:\n",
    "        log.info(f\"{created.strftime('%Y-%m-%d %H:%M:%S')} : {total_lines:,} : {matched_lines:,} : {bad_lines:,} : {file_bytes_processed:,}:{(file_bytes_processed / file_size) * 100:.0f}%\")\n",
    "\n",
    "    try:\n",
    "        obj = json.loads(line)\n",
    "        created = datetime.utcfromtimestamp(int(obj['created_utc']))\n",
    "\n",
    "        if created < from_date:\n",
    "            continue\n",
    "        if created > to_date:\n",
    "            continue\n",
    "\n",
    "        matched_lines += 1\n",
    "        write_line_csv(writer, obj)\n",
    "    except (KeyError, json.JSONDecodeError) as err:\n",
    "        bad_lines += 1\n",
    "handle.close()"
   ]
  },
  {
   "cell_type": "code",
   "execution_count": 6,
   "id": "78e8e8c2-2dbf-469d-8ce6-d454875a425c",
   "metadata": {
    "tags": []
   },
   "outputs": [
    {
     "data": {
      "text/plain": [
       "<_csv.writer at 0x1057359a0>"
      ]
     },
     "execution_count": 6,
     "metadata": {},
     "output_type": "execute_result"
    }
   ],
   "source": []
  }
 ],
 "metadata": {
  "kernelspec": {
   "display_name": "Python 3 (ipykernel)",
   "language": "python",
   "name": "python3"
  },
  "language_info": {
   "codemirror_mode": {
    "name": "ipython",
    "version": 3
   },
   "file_extension": ".py",
   "mimetype": "text/x-python",
   "name": "python",
   "nbconvert_exporter": "python",
   "pygments_lexer": "ipython3",
   "version": "3.9.6"
  }
 },
 "nbformat": 4,
 "nbformat_minor": 5
}
