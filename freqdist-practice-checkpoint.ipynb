{
 "cells": [
  {
   "cell_type": "code",
   "execution_count": 1,
   "id": "34834ef1-1d16-4e87-80b8-2c62844ee3b8",
   "metadata": {},
   "outputs": [],
   "source": [
    "# TO-DO:\n",
    "# Repeat this for 3 different years to get 2 different divergences\n",
    "# Repeat for a different subreddit\n",
    "# Try specificty and volatility stuff from Zhang"
   ]
  },
  {
   "cell_type": "code",
   "execution_count": 5,
   "id": "4fc654ee-e9f3-4c22-b783-ca390ffb1d49",
   "metadata": {
    "tags": []
   },
   "outputs": [
    {
     "name": "stderr",
     "output_type": "stream",
     "text": [
      "[nltk_data] Downloading package stopwords to\n",
      "[nltk_data]     /Users/brucesherin/nltk_data...\n",
      "[nltk_data]   Unzipping corpora/stopwords.zip.\n"
     ]
    }
   ],
   "source": [
    "# for file manipulating\n",
    "import nltk\n",
    "import re\n",
    "from nltk.corpus import reader\n",
    "from nltk.corpus import stopwords\n",
    "nltk.download('stopwords')\n",
    "from nltk.tokenize import word_tokenize, sent_tokenize\n",
    "from nltk.corpus import stopwords\n",
    "from nltk.stem import SnowballStemmer, WordNetLemmatizer, PorterStemmer\n",
    "from nltk.tag import pos_tag\n",
    "from nltk.chunk import ne_chunk\n",
    "from nltk.probability import ConditionalProbDist, ELEProbDist\n",
    "import string\n",
    "import scipy\n",
    "import math"
   ]
  },
  {
   "cell_type": "code",
   "execution_count": 2,
   "id": "2ac25f12-3903-4373-bce4-fb99e179b94b",
   "metadata": {
    "tags": []
   },
   "outputs": [],
   "source": [
    "# importing local .txt files to nltk\n",
    "# f1 is r/A2C from 2021-2022\n",
    "f1 = open(r'/Users/brucesherin/PycharmProjects/learning-trajectories/subreddits/a2c-2021-01-2022-01-output.txt', encoding = \"utf8\")\n",
    "# f1 = open(r'C:\\Users\\HP\\prj\\bsherin\\learning-trajectories\\reddit-outputs\\a2c-2021-01-2022-01-output.txt', encoding = \"utf8\")\n",
    "raw1 = f1.read()\n",
    "# f2 is r/A2C from 2016-2017\n",
    "f2 = open(r'/Users/brucesherin/PycharmProjects/learning-trajectories/subreddits/a2c-2016-01-2017-01-output.txt', encoding = \"utf8\")\n",
    "# f2 = open(r'C:\\Users\\HP\\prj\\bsherin\\learning-trajectories\\reddit-outputs\\a2c-2016-01-2017-01-output.txt', encoding = \"utf8\")\n",
    "raw2 = f2.read()\n",
    "#f3 is "
   ]
  },
  {
   "cell_type": "code",
   "execution_count": 30,
   "id": "db37b8d2-c929-4806-9e83-26215c19b894",
   "metadata": {
    "tags": []
   },
   "outputs": [
    {
     "data": {
      "text/plain": [
       "'1hBECYA.png](https://i.imgur.com/1hBECYA.png)\\n\\na bit much, I know :P I wanted to be as polite as possible while also stressing how I was definitely *not* going to attend. Everything I said was also true, to be clear.\\n\\nAnd here was the response I got back today:\\n\\n[https://i.imgur.com/60ZwMKw.png](https://i.imgur.com/60ZwMKw.png)\\n[deleted]\\n1609459389\\nIs the deadline for Harvard RD the end of January 1st?\\n[removed]\\n[deleted]\\n1609459401\\nFinally Finished my Apps!\\n[removed]\\ndavidkang10\\n1609459444\\nMacaulay Honors Portal\\n[deleted]\\n[deleted]\\n1609459629\\nI Do Want To Apply For Aid But My App Asks For Aid. What Should I Do?\\n[deleted]\\n[deleted]\\n1609459836\\nColumbia Portal\\n[deleted]\\n[deleted]\\n1609459844\\nDamnit just,,,help\\n[deleted]\\n[deleted]\\n1609459978\\nMaybe it’s just an insignificant problem but\\nI didn’t read well and when they asked me  “which activities would you like to do in college” or something like that I put my 5 activities and then there was a box saying “intended level of participation (SP'"
      ]
     },
     "execution_count": 30,
     "metadata": {},
     "output_type": "execute_result"
    }
   ],
   "source": [
    "raw1[1000:2000]"
   ]
  },
  {
   "cell_type": "markdown",
   "id": "63472d18-c08c-4aa8-b2a4-960252edfa54",
   "metadata": {},
   "source": [
    "### Note\n",
    "\n",
    "I'm not sure what's in these raw umps. Some of this might be dates. Certainly there are urls. But they might be getting filtered out"
   ]
  },
  {
   "cell_type": "code",
   "execution_count": 3,
   "id": "2ffc8aae-8629-4c2a-ada6-43616e91be27",
   "metadata": {
    "tags": []
   },
   "outputs": [],
   "source": [
    "def clean(text):\n",
    "    no_punct_links = re.sub(r'[^a-zA-Z\\s]|\\bhttps?\\S+\\b', '', text)\n",
    "    no_punct_links_newline = re.sub('\\n', ' ', no_punct_links)\n",
    "    # removing stopwords\n",
    "    stop_words = set(stopwords.words('english'))\n",
    "    stop_words.add('removed question')\n",
    "    pattern = r'\\b(?:' + '|'.join(map(re.escape, stop_words)) + r')\\b' # group the non special characters into a single string\n",
    "    text_clean = re.sub(pattern, '', no_punct_links_newline, flags = re.IGNORECASE)    \n",
    "    return text_clean.lower()"
   ]
  },
  {
   "cell_type": "code",
   "execution_count": 8,
   "id": "44f14252-b2fd-4479-bf2c-e3124b7fee4c",
   "metadata": {
    "tags": []
   },
   "outputs": [],
   "source": [
    "# tokenize our cleaned text\n",
    "filtered_tokens1 = nltk.wordpunct_tokenize(clean(raw1))\n",
    "filtered_tokens2 = nltk.wordpunct_tokenize(clean(raw2))\n",
    "\n",
    "# lemmatization\n",
    "lemmatizer = WordNetLemmatizer()\n",
    "cleaned_tokens1 = [lemmatizer.lemmatize(token) for token in filtered_tokens1]\n",
    "cleaned_tokens2 = [lemmatizer.lemmatize(token) for token in filtered_tokens2]\n",
    "\n",
    "# remove digits and punctuation\n",
    "# need to manually adjust list of punctuation to take out\n",
    "# cleaned_tokens1 = [token for token in lemmatized_tokens1 \n",
    "#                             if not token.isdigit() and not token in string.punctuation]\n",
    "# cleaned_tokens2 = [token for token in lemmatized_tokens2 \n",
    "#                             if not token.isdigit() and not token in string.punctuation]"
   ]
  },
  {
   "cell_type": "markdown",
   "id": "48303b52-a960-4006-9cd3-f48c69d2c682",
   "metadata": {},
   "source": [
    "### Note \n",
    "Is anythign different in cleaned_tokens?"
   ]
  },
  {
   "cell_type": "code",
   "execution_count": 31,
   "id": "afe07015-bfa4-4a24-b6de-b7ae72bc6e95",
   "metadata": {
    "tags": []
   },
   "outputs": [],
   "source": [
    "fdist1 = nltk.FreqDist(cleaned_tokens1)\n",
    "fdist2 = nltk.FreqDist(cleaned_tokens2)"
   ]
  },
  {
   "cell_type": "code",
   "execution_count": 32,
   "id": "544739d8-3113-49fe-a157-3042cccd7da1",
   "metadata": {
    "tags": []
   },
   "outputs": [
    {
     "data": {
      "text/plain": [
       "4110938"
      ]
     },
     "execution_count": 32,
     "metadata": {},
     "output_type": "execute_result"
    }
   ],
   "source": [
    "fdist1.N()"
   ]
  },
  {
   "cell_type": "code",
   "execution_count": 33,
   "id": "bfdcb12d-1336-48f8-a948-a20d96c967e6",
   "metadata": {
    "tags": []
   },
   "outputs": [],
   "source": [
    "# Get our probdist by dividing the frequency of each word by N()\n",
    "# Iterative approach\n",
    "import copy\n",
    "def fdist_to_pdist(fdist):\n",
    "    pdist_output = {}\n",
    "    N = len(set(cleaned_tokens1)) # needs to be word count\n",
    "    for key in fdist.keys():\n",
    "        pdist_output[key] = fdist[key] / float(N)\n",
    "    return pdist_output\n",
    "# using nltk.probability.DictionaryProbDist\n",
    "# Put list of numbers into KL divergence"
   ]
  },
  {
   "cell_type": "markdown",
   "id": "28cd1ff5-e107-4b8a-a7f0-567df2346d74",
   "metadata": {},
   "source": [
    "### Note\n",
    "This modifies the fdists. Need to do a deep copy in the first line above.\n",
    "Or can just make pdist_output a dict.\n",
    "\n",
    "```python\n",
    "import copy\n",
    "pdist_output = copy.deepcopy(fdist)\n",
    "```"
   ]
  },
  {
   "cell_type": "code",
   "execution_count": 34,
   "id": "14fef464-c533-4f15-bd90-04120e18bdbe",
   "metadata": {
    "tags": []
   },
   "outputs": [],
   "source": [
    "pdist1 = fdist_to_pdist(fdist1)"
   ]
  },
  {
   "cell_type": "code",
   "execution_count": 35,
   "id": "285773d7-cbda-4bf9-8deb-15bde47c9ece",
   "metadata": {
    "tags": []
   },
   "outputs": [],
   "source": [
    "pdist2 = fdist_to_pdist(fdist2)"
   ]
  },
  {
   "cell_type": "code",
   "execution_count": 36,
   "id": "bfd8f18e-d0ca-4390-9759-c8ca840fce63",
   "metadata": {
    "tags": []
   },
   "outputs": [],
   "source": [
    "# Own KL function\n",
    "# Summation [(Probability(x) in Dist. 1) * log((Probability(x) in Dist. 1)/(Probability(x) in Dist. 2))]\n",
    "def my_kl_div(pdist1, pdist2):\n",
    "    output = 0.0\n",
    "    for key in pdist1.keys():\n",
    "        kl_val = 0.0\n",
    "        if key in pdist2.keys():\n",
    "            kl_val += (pdist1[key] * math.log(pdist1[key]/pdist2[key]))\n",
    "        output += kl_val\n",
    "    return output        "
   ]
  },
  {
   "attachments": {
    "67116d9e-0a5a-4737-8d73-1f57eb92dc75.png": {
     "image/png": "[encoded data removed]"
    }
   },
   "cell_type": "markdown",
   "id": "f13a7e3f-0f54-495a-9bed-a415eaaec641",
   "metadata": {
    "tags": []
   },
   "source": [
    "### Note\n",
    "This looks right to me.\n",
    "For reference\n",
    "<div>\n",
    "<img src=\"attachment:67116d9e-0a5a-4737-8d73-1f57eb92dc75.png\" width=\"400\">\n",
    "</div>"
   ]
  },
  {
   "cell_type": "code",
   "execution_count": 37,
   "id": "2ca3e146-fad8-429f-94af-11b6665a7fc4",
   "metadata": {
    "tags": []
   },
   "outputs": [
    {
     "data": {
      "text/plain": [
       "85.98172164805888"
      ]
     },
     "execution_count": 37,
     "metadata": {},
     "output_type": "execute_result"
    }
   ],
   "source": [
    "my_kl_div(pdist1, pdist2)"
   ]
  },
  {
   "cell_type": "code",
   "execution_count": 38,
   "id": "7349887a-2737-4348-8f3e-a5ab2ea652d0",
   "metadata": {
    "tags": []
   },
   "outputs": [
    {
     "name": "stdout",
     "output_type": "stream",
     "text": [
      "KL-Divergence: 0.12685113254635072\n",
      "KL-Divergence: 0.1569744431293642\n",
      "KL-Divergence: 0.028768207245178104\n"
     ]
    }
   ],
   "source": [
    "# Test example 1\n",
    "pdist1 = {'a': 0.4, 'b': 0.3, 'c': 0.2, 'd': 0.1}\n",
    "pdist2 = {'a': 0.2, 'b': 0.3, 'c': 0.3, 'd': 0.2}\n",
    "kl_div_result = my_kl_div(pdist1, pdist2)\n",
    "print(\"KL-Divergence:\", kl_div_result) # get .127, supposed to be .366\n",
    "\n",
    "# Test example 2\n",
    "pdist1 = {'apple': 0.6, 'banana': 0.3, 'orange': 0.1}\n",
    "pdist2 = {'apple': 0.4, 'banana': 0.4, 'grape': 0.2}\n",
    "kl_div_result = my_kl_div(pdist1, pdist2)\n",
    "print(\"KL-Divergence:\", kl_div_result) # get .157, supposed to be .128\n",
    "\n",
    "# Test example 3\n",
    "pdist1 = {'red': 0.4, 'green': 0.3, 'blue': 0.3}\n",
    "pdist2 = {'red': 0.3, 'green': 0.4, 'blue': 0.3}\n",
    "kl_div_result = my_kl_div(pdist1, pdist2)\n",
    "print(\"KL-Divergence:\", kl_div_result) # get 0.0288, supposed to be 0.0855"
   ]
  },
  {
   "cell_type": "code",
   "execution_count": 144,
   "id": "3ada7dc6-6230-40dc-8229-ed480a90ff1f",
   "metadata": {
    "tags": []
   },
   "outputs": [],
   "source": [
    "# SRCC: Change PDists to ranks\n",
    "# from https://www.freecodecamp.org/news/sort-dictionary-by-value-in-python/\n",
    "def sort_pdist(pdist):\n",
    "    lst_sort = sorted(pdist.items(), key = lambda x:x[1], reverse = True)\n",
    "    return dict(lst_sort)\n",
    "# sorting will be based on the values of the items."
   ]
  },
  {
   "cell_type": "code",
   "execution_count": 180,
   "id": "8d7b9485-a8c3-4c23-937b-c4d150154560",
   "metadata": {
    "tags": []
   },
   "outputs": [],
   "source": [
    "def rank_sorted_dict(dict):\n",
    "    # assign a temp max value\n",
    "    # create a ranking counter that increases when no more values of the same max can be found\n",
    "    output_dict = {}\n",
    "    sorted_dict = sort_pdist(dict)\n",
    "    unique_vals = sorted(set(sorted_dict.values()), reverse = True)\n",
    "    temp_max = max(unique_vals)\n",
    "    rank_counter = 1\n",
    "    for key in sorted_dict.keys():\n",
    "        if sorted_dict[key] < temp_max:\n",
    "            # re-assign value of max\n",
    "            rank_counter += 1\n",
    "            temp_max = unique_vals[rank_counter - 1]\n",
    "        output_dict[key] = rank_counter\n",
    "    return output_dict"
   ]
  },
  {
   "cell_type": "code",
   "execution_count": 138,
   "id": "29f7b09a-68b8-42bf-bbeb-176796a48a50",
   "metadata": {
    "tags": []
   },
   "outputs": [],
   "source": []
  },
  {
   "cell_type": "code",
   "execution_count": null,
   "id": "40fd54af-d847-4d05-bce0-04cfa8db5f18",
   "metadata": {},
   "outputs": [
    {
     "data": {
      "text/plain": [
       "50"
      ]
     },
     "execution_count": 140,
     "metadata": {},
     "output_type": "execute_result"
    }
   ],
   "source": [
    "max(dict1.values())"
   ]
  },
  {
   "cell_type": "code",
   "execution_count": 135,
   "id": "d047d531-f1a1-4650-809e-024b36914e42",
   "metadata": {
    "tags": []
   },
   "outputs": [
    {
     "name": "stderr",
     "output_type": "stream",
     "text": [
      "\n",
      "KeyboardInterrupt\n",
      "\n"
     ]
    }
   ],
   "source": [
    "rank_sorted_dict(pdist1)"
   ]
  },
  {
   "cell_type": "code",
   "execution_count": 182,
   "id": "3688d5d5-492e-48b8-ab3f-94c50541f9bb",
   "metadata": {
    "tags": []
   },
   "outputs": [],
   "source": [
    "# SRCC: Make a formula\n",
    "def srcc(rank1, rank2):\n",
    "    difference = 0\n",
    "    sum_diffs = 0\n",
    "    output = 0\n",
    "    n = len(set(rank1))\n",
    "    for key in rank1.keys():\n",
    "        if key in rank2.keys():\n",
    "            difference = rank1[key] - rank2[key]\n",
    "            sum_diffs += difference * difference\n",
    "    output = 1 - 6/(n * ((n * n) - 1)) * sum_diffs\n",
    "    return output\n",
    "            "
   ]
  },
  {
   "cell_type": "code",
   "execution_count": 184,
   "id": "5ec78f09-d84b-4aee-ad22-989564c5358e",
   "metadata": {
    "tags": []
   },
   "outputs": [
    {
     "data": {
      "text/plain": [
       "1.0"
      ]
     },
     "execution_count": 184,
     "metadata": {},
     "output_type": "execute_result"
    }
   ],
   "source": [
    "# test 1\n",
    "dict1 = {'A': 10, 'B': 20, 'C': 30, 'D': 40, 'E': 50}\n",
    "dict2 = {'A': 15, 'B': 25, 'C': 35, 'D': 45, 'E': 55}\n",
    "# Spearman coefficient: 1.0\n",
    "\n",
    "rank1 = rank_sorted_dict(dict1)\n",
    "rank2 = rank_sorted_dict(dict2)\n",
    "srcc(rank1, rank2)"
   ]
  },
  {
   "cell_type": "code",
   "execution_count": 186,
   "id": "91d7b545-f871-4595-9c28-a48c87af8097",
   "metadata": {
    "tags": []
   },
   "outputs": [
    {
     "data": {
      "text/plain": [
       "-1.0"
      ]
     },
     "execution_count": 186,
     "metadata": {},
     "output_type": "execute_result"
    }
   ],
   "source": [
    "# test 2\n",
    "dict3 = {'A': 5, 'B': 10, 'C': 15, 'D': 20, 'E': 25}\n",
    "dict4 = {'A': 25, 'B': 20, 'C': 15, 'D': 10, 'E': 5}\n",
    "# Spearman coefficient: -1.0\n",
    "\n",
    "rank1 = rank_sorted_dict(dict3)\n",
    "rank2 = rank_sorted_dict(dict4)\n",
    "srcc(rank1, rank2)"
   ]
  },
  {
   "cell_type": "code",
   "execution_count": 191,
   "id": "26b3fdd2-5959-46a2-abde-87d8cd388c00",
   "metadata": {
    "tags": []
   },
   "outputs": [
    {
     "data": {
      "text/plain": [
       "-0.9000000000000001"
      ]
     },
     "execution_count": 191,
     "metadata": {},
     "output_type": "execute_result"
    }
   ],
   "source": [
    "# test 3\n",
    "dict5 = {'A': 7, 'B': 2, 'C': 11, 'D': 5, 'E': 15}\n",
    "dict6 = {'A': 5, 'B': 15, 'C': 7, 'D': 11, 'E': 2}\n",
    "# Spearman coefficient: 0.6\n",
    "\n",
    "rank1 = rank_sorted_dict(dict5)\n",
    "rank2 = rank_sorted_dict(dict6)\n",
    "srcc(rank1, rank2)"
   ]
  },
  {
   "cell_type": "code",
   "execution_count": 189,
   "id": "5788420e-a421-4e1e-b4cc-e80e25dfd120",
   "metadata": {
    "tags": []
   },
   "outputs": [
    {
     "data": {
      "text/plain": [
       "0.0"
      ]
     },
     "execution_count": 189,
     "metadata": {},
     "output_type": "execute_result"
    }
   ],
   "source": [
    "# test 4\n",
    "dict7 = {'A': 8, 'B': 2, 'C': 6, 'D': 4, 'E': 10}\n",
    "dict8 = {'A': 6, 'B': 10, 'C': 4, 'D': 2, 'E': 8}\n",
    "# Spearman coefficient: 0.0\n",
    "\n",
    "rank1 = rank_sorted_dict(dict7)\n",
    "rank2 = rank_sorted_dict(dict8)\n",
    "srcc(rank1, rank2)"
   ]
  },
  {
   "cell_type": "code",
   "execution_count": 190,
   "id": "6396f4ba-bf46-4f71-a534-3283df7d2200",
   "metadata": {
    "tags": []
   },
   "outputs": [
    {
     "data": {
      "text/plain": [
       "0.9"
      ]
     },
     "execution_count": 190,
     "metadata": {},
     "output_type": "execute_result"
    }
   ],
   "source": [
    "# test 5\n",
    "dict9 = {'A': 10, 'B': 20, 'C': 30, 'D': 40, 'E': 50}\n",
    "dict10 = {'A': 15, 'B': 8, 'C': 35, 'D': 42, 'E': 48}\n",
    "\n",
    "# Calculating Spearman rank correlation coefficient\n",
    "rank1 = rank_sorted_dict(dict9)\n",
    "rank2 = rank_sorted_dict(dict10)\n",
    "srcc(rank1, rank2)"
   ]
  }
 ],
 "metadata": {
  "kernelspec": {
   "display_name": "Python 3 (ipykernel)",
   "language": "python",
   "name": "python3"
  },
  "language_info": {
   "codemirror_mode": {
    "name": "ipython",
    "version": 3
   },
   "file_extension": ".py",
   "mimetype": "text/x-python",
   "name": "python",
   "nbconvert_exporter": "python",
   "pygments_lexer": "ipython3",
   "version": "3.9.6"
  }
 },
 "nbformat": 4,
 "nbformat_minor": 5
}
